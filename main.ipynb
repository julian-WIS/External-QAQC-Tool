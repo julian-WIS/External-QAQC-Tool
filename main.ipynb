{
 "cells": [
  {
   "cell_type": "markdown",
   "id": "a7828962",
   "metadata": {},
   "source": [
    "This is a notebook"
   ]
  },
  {
   "cell_type": "code",
   "execution_count": 1,
   "id": "b3f377d2",
   "metadata": {},
   "outputs": [
    {
     "name": "stdout",
     "output_type": "stream",
     "text": [
      "Hello\n"
     ]
    }
   ],
   "source": [
    "print(\"Hello\")"
   ]
  }
 ],
 "metadata": {
  "kernelspec": {
   "display_name": "core_env",
   "language": "python",
   "name": "python3"
  },
  "language_info": {
   "codemirror_mode": {
    "name": "ipython",
    "version": 3
   },
   "file_extension": ".py",
   "mimetype": "text/x-python",
   "name": "python",
   "nbconvert_exporter": "python",
   "pygments_lexer": "ipython3",
   "version": "3.13.5"
  }
 },
 "nbformat": 4,
 "nbformat_minor": 5
}
